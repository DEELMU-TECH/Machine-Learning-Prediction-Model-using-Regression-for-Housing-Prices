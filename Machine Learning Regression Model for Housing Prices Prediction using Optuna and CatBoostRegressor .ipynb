{
 "cells": [
  {
   "cell_type": "markdown",
   "metadata": {},
   "source": [
    "# Machine Learning Regressoin Model for Housing Prices tuned Using Optuna and CatBoostRegressor"
   ]
  },
  {
   "cell_type": "markdown",
   "metadata": {},
   "source": [
    "## The following cell has the code for installing the libraries that are not commonly found in python installations. If they are already installed just delete the cell or comment it out."
   ]
  },
  {
   "cell_type": "code",
   "execution_count": null,
   "metadata": {
    "scrolled": true,
    "tags": []
   },
   "outputs": [],
   "source": [
    "!pip install catboost --user\n",
    "!pip install optuna --user"
   ]
  },
  {
   "cell_type": "markdown",
   "metadata": {},
   "source": [
    "## The folllowing is the model for the dataset on Housing Prices and the prediction by using CatBoostRegressor. The train.csv dataset contains 1459 entries and the test.csv dataset contains 1459 entries to which the prediction is outputed into the sample_submission.csv. You can follow through to see the operations performed on the data and the model built for the prediction.\n",
    "## The first cell contains all the neccesary libraries that will be used in the model and all the preprocessing activities."
   ]
  },
  {
   "cell_type": "code",
   "execution_count": null,
   "metadata": {
    "tags": []
   },
   "outputs": [],
   "source": [
    "import catboost\n",
    "import optuna\n",
    "from scipy import stats\n",
    "import datetime as dt\n",
    "import time\n",
    "import sklearn.metrics as metrics\n",
    "import numpy as np\n",
    "import pandas as pd\n",
    "from catboost import Pool\n",
    "import matplotlib.pyplot as plt\n",
    "import seaborn as sns\n",
    "from sklearn.preprocessing import PolynomialFeatures as pf\n",
    "from sklearn.model_selection import  train_test_split, GridSearchCV\n",
    "from sklearn.metrics import *\n",
    "from catboost import CatBoostRegressor\n",
    "import math\n",
    "from sklearn import tree, model_selection\n",
    "from IPython.display import display, HTML\n",
    "display(HTML(\"<style>.container { width:100% !important; }</style>\"))"
   ]
  },
  {
   "cell_type": "markdown",
   "metadata": {},
   "source": [
    "## The cell below is used to read the .csv files into pandas dataframes that we shall be working on throughout the entire notebook."
   ]
  },
  {
   "cell_type": "code",
   "execution_count": null,
   "metadata": {
    "tags": []
   },
   "outputs": [],
   "source": [
    "train = pd.read_csv(\"train.csv\")\n",
    "test = pd.read_csv(\"test.csv\")\n",
    "sub = pd.read_csv(\"sample_submission.csv\")"
   ]
  },
  {
   "cell_type": "markdown",
   "metadata": {},
   "source": [
    "## The Cell below contains code to allow 100 outputs to be seen to allow me to see the features to discard and the the features to keep.  "
   ]
  },
  {
   "cell_type": "code",
   "execution_count": null,
   "metadata": {
    "tags": []
   },
   "outputs": [],
   "source": [
    "pd.set_option(\"display.max_rows\", 100)"
   ]
  },
  {
   "cell_type": "markdown",
   "metadata": {},
   "source": [
    "## The Cell below contains code to look for the null values in the train dataset and show them as percentages."
   ]
  },
  {
   "cell_type": "code",
   "execution_count": null,
   "metadata": {
    "scrolled": true,
    "tags": []
   },
   "outputs": [],
   "source": [
    "train.isnull().mean()*100"
   ]
  },
  {
   "cell_type": "markdown",
   "metadata": {},
   "source": [
    "## The Cell below contains code to drop the unusable columns in the train.csv dataset that have too many null values to be useful features."
   ]
  },
  {
   "cell_type": "code",
   "execution_count": null,
   "metadata": {
    "tags": []
   },
   "outputs": [],
   "source": [
    "X = train.drop([\"LotFrontage\",\"Alley\",\"FireplaceQu\",\"PoolQC\",\"Fence\",\"MiscFeature\",\"Id\"], axis=1)"
   ]
  },
  {
   "cell_type": "markdown",
   "metadata": {},
   "source": [
    "## The Cell below contains code to view all the unique values in each column. If a column has alot of unique values, they have to be continous data values or it cannot be useful as a feature and also if it has very few unique values then it has to be categorical data values or else it cannot be a useful feature."
   ]
  },
  {
   "cell_type": "code",
   "execution_count": null,
   "metadata": {
    "scrolled": true,
    "tags": []
   },
   "outputs": [],
   "source": [
    "X.nunique().sort_values()"
   ]
  },
  {
   "cell_type": "markdown",
   "metadata": {},
   "source": [
    "## The Cell below contains code to sort the columns according to their different data types so that I can get all the categorical data columns into the next cell."
   ]
  },
  {
   "cell_type": "code",
   "execution_count": null,
   "metadata": {
    "scrolled": true,
    "tags": []
   },
   "outputs": [],
   "source": [
    "X.dtypes.sort_values()"
   ]
  },
  {
   "cell_type": "markdown",
   "metadata": {},
   "source": [
    "## The Cell below contains code to change all the categorrical columns into integers so that I can work on them to find the P-value and also to use for separation from the rest of the dataset to be left with the continous data for correlation analysis using RegPlot."
   ]
  },
  {
   "cell_type": "code",
   "execution_count": null,
   "metadata": {
    "scrolled": true,
    "tags": []
   },
   "outputs": [],
   "source": [
    "X = X.astype({'GarageFinish' : 'category' ,'Condition2' : 'category' ,'Condition1' : 'category',\n",
    "'GarageQual' : 'category','GarageCond' : 'category','BsmtExposure' : 'category','Neighborhood' : 'category',\n",
    "'LandSlope' : 'category','LotConfig' : 'category','Utilities' : 'category','LandContour' : 'category',\n",
    "'LotShape' : 'category','Street' : 'category','MSZoning' : 'category','SaleType' : 'category',\n",
    "'PavedDrive' : 'category','GarageType' : 'category','HouseStyle' : 'category','Functional' : 'category',\n",
    "'BsmtFinType1' : 'category','BsmtQual' : 'category','BsmtFinType2' : 'category','Foundation' : 'category',\n",
    "'ExterCond' : 'category','ExterQual' : 'category','SaleCondition' : 'category','HeatingQC' : 'category',\n",
    "'CentralAir' : 'category','Electrical' : 'category','MasVnrType' : 'category','Exterior2nd' : 'category',\n",
    "'Exterior1st' : 'category','RoofMatl' : 'category','RoofStyle' : 'category','KitchenQual' : 'category',\n",
    "'BsmtCond' : 'category','BldgType' : 'category','Heating' : 'category'})\n",
    "cat_columns = X.select_dtypes(['category']).columns\n",
    "X[cat_columns] = X[cat_columns].apply(lambda x: x.cat.codes)\n",
    "X.dtypes.sort_values()"
   ]
  },
  {
   "cell_type": "markdown",
   "metadata": {},
   "source": [
    "## The Cell below contains code to perform the correlation analysis on the continous data columns and only use those that pass a certain threshhold seen in the if-else statement in the cell. Only the columns that pass this test will be used in the RegPlot section of the cell and plotted out."
   ]
  },
  {
   "cell_type": "code",
   "execution_count": null,
   "metadata": {
    "scrolled": true,
    "tags": []
   },
   "outputs": [],
   "source": [
    "c_n_housing1 = X.columns.values.tolist()\n",
    "unwanted_num=[\"SalePrice\",\"GarageFinish\",\"Condition2\",\"Condition1\",\"GarageQual\",\"GarageCond\",\"BsmtExposure\",\n",
    "              \"Neighborhood\",\"LandSlope\",\"LotConfig\",\"Utilities\",\"LandContour\",\"LotShape\",\"Street\",\"MSZoning\",\n",
    "              \"SaleType\",\"PavedDrive\",\"GarageType\",\"HouseStyle\",\"Functional\",\"BsmtFinType1\",\"BsmtQual\",\n",
    "              \"BsmtFinType2\",\"Foundation\",\"ExterCond\",\"ExterQual\",\"SaleCondition\",\"HeatingQC\",\"CentralAir\",\n",
    "              \"Electrical\",\"MasVnrType\",\"Exterior2nd\",\"Exterior1st\",\"RoofMatl\",\"RoofStyle\",\"KitchenQual\",\n",
    "              \"BsmtCond\",\"BldgType\",\"Heating\",\"MSSubClass\",\"OverallQual\",\"OverallCond\",\"BsmtFullBath\",\n",
    "              \"BsmtHalfBath\",\"FullBath\",\"HalfBath\",\"BedroomAbvGr\",\"KitchenAbvGr\",\"Fireplaces\",\"GarageCars\",\n",
    "              \"MoSold\",\"YrSold\",\"TotRmsAbvGrd\",\"YearRemodAdd\",\"YearBuilt\",\"GarageYrBlt\"]\n",
    "c_n_housing1 = [ele for ele in c_n_housing1 if ele not in unwanted_num]\n",
    "print(c_n_housing1)\n",
    "corrp = []\n",
    "\n",
    "for i in c_n_housing1: \n",
    "    putt = X[i].corr(X['SalePrice'])\n",
    "    \n",
    "    if putt >= 0.5 or putt <-0.5:\n",
    "        corrp = corrp + [i]\n",
    "    else:\n",
    "        continue\n",
    "    print(\"The correlation between \", i ,\" and SalesPrice is = \", putt)\n",
    "print(corrp)\n",
    "\n",
    "for i in corrp:  # Loop over all columns except 'Location'\n",
    "    sns.set()\n",
    "    fig, ax = plt.subplots()\n",
    "    fig.set_size_inches(30.5, 10.5)\n",
    "    sns.regplot(x=i, y='SalePrice', data=X)  # column is chosen here\n",
    "   "
   ]
  },
  {
   "cell_type": "markdown",
   "metadata": {
    "tags": []
   },
   "source": [
    "## The Cells below contain code to store the names of the categorical data to use for finding the P-value of the categorical columns. One column, GarageYrBlt, has missing data and needs to be filled first to be used, after which I calculate the P-value and and choose those that have a P-value of less than 0.001."
   ]
  },
  {
   "cell_type": "code",
   "execution_count": null,
   "metadata": {
    "scrolled": true,
    "tags": []
   },
   "outputs": [],
   "source": [
    "\n",
    "pearson_housing = [\"GarageFinish\",\"Condition2\",\"Condition1\",\"GarageQual\",\"GarageCond\",\"BsmtExposure\",\n",
    "        \"Neighborhood\",\"LandSlope\",\"LotConfig\",\"Utilities\",\"LandContour\",\"LotShape\",\"Street\",\"MSZoning\",\n",
    "        \"SaleType\",\"PavedDrive\",\"GarageType\",\"HouseStyle\",\"Functional\",\"BsmtFinType1\",\"BsmtQual\",\n",
    "        \"BsmtFinType2\",\"Foundation\",\"ExterCond\",\"ExterQual\",\"SaleCondition\",\"HeatingQC\",\"CentralAir\",\n",
    "        \"Electrical\",\"MasVnrType\",\"Exterior2nd\",\"Exterior1st\",\"RoofMatl\",\"RoofStyle\",\"KitchenQual\",\n",
    "        \"BsmtCond\",\"BldgType\",\"Heating\",\"MSSubClass\",\"OverallQual\",\"OverallCond\",\"BsmtFullBath\",\n",
    "        \"BsmtHalfBath\",\"FullBath\",\"HalfBath\",\"BedroomAbvGr\",\"KitchenAbvGr\",\"Fireplaces\",\"GarageCars\",\n",
    "        \"MoSold\",\"YrSold\",\"TotRmsAbvGrd\",\"YearRemodAdd\",\"YearBuilt\",\"GarageYrBlt\"]\n",
    "X2 = X[[\"SalePrice\",\"GarageFinish\",\"Condition2\",\"Condition1\",\"GarageQual\",\"GarageCond\",\"BsmtExposure\",\n",
    "        \"Neighborhood\",\"LandSlope\",\"LotConfig\",\"Utilities\",\"LandContour\",\"LotShape\",\"Street\",\"MSZoning\",\n",
    "        \"SaleType\",\"PavedDrive\",\"GarageType\",\"HouseStyle\",\"Functional\",\"BsmtFinType1\",\"BsmtQual\",\n",
    "        \"BsmtFinType2\",\"Foundation\",\"ExterCond\",\"ExterQual\",\"SaleCondition\",\"HeatingQC\",\"CentralAir\",\n",
    "        \"Electrical\",\"MasVnrType\",\"Exterior2nd\",\"Exterior1st\",\"RoofMatl\",\"RoofStyle\",\"KitchenQual\",\n",
    "        \"BsmtCond\",\"BldgType\",\"Heating\",\"MSSubClass\",\"OverallQual\",\"OverallCond\",\"BsmtFullBath\",\n",
    "        \"BsmtHalfBath\",\"FullBath\",\"HalfBath\",\"BedroomAbvGr\",\"KitchenAbvGr\",\"Fireplaces\",\"GarageCars\",\n",
    "        \"MoSold\",\"YrSold\",\"TotRmsAbvGrd\",\"YearRemodAdd\",\"YearBuilt\",\"GarageYrBlt\"]]\n",
    "np.isnan(X2).any()"
   ]
  },
  {
   "cell_type": "code",
   "execution_count": null,
   "metadata": {
    "tags": []
   },
   "outputs": [],
   "source": [
    "X2['GarageYrBlt'].fillna(int((X2['GarageYrBlt'].mean())), inplace=True)"
   ]
  },
  {
   "cell_type": "code",
   "execution_count": null,
   "metadata": {
    "scrolled": true,
    "tags": []
   },
   "outputs": [],
   "source": [
    "np.isnan(X2).any()"
   ]
  },
  {
   "cell_type": "code",
   "execution_count": null,
   "metadata": {
    "scrolled": true,
    "tags": []
   },
   "outputs": [],
   "source": [
    "pcarl = []\n",
    "for i in pearson_housing: \n",
    "   pearson_coef, p_value = stats.pearsonr(X2[i],X2['SalePrice'])\n",
    "   if p_value <= 0.001:\n",
    "        pcarl = pcarl + [i]\n",
    "   else:\n",
    "        continue\n",
    "   print(\"The P-value of \" ,i ,\" is P =\", p_value) \n",
    "\n",
    "print(pcarl)"
   ]
  },
  {
   "cell_type": "markdown",
   "metadata": {},
   "source": [
    "## The Cell below contains code to add polynomial features to try and augment the data to mitigate the variance and decrease the Mean Absolute Percentage Error (M.A.P.E). I will be trying to remove the polynomial data and leave the rest of the data to reduce variance."
   ]
  },
  {
   "cell_type": "code",
   "execution_count": null,
   "metadata": {
    "scrolled": true,
    "tags": []
   },
   "outputs": [],
   "source": [
    "pr = pf(degree = 3, include_bias=False)\n",
    "train_poly = pr.fit_transform(train[['TotalBsmtSF', '1stFlrSF', 'GrLivArea', 'GarageArea']])\n",
    "pr.get_feature_names_out(['TotalBsmtSF', '1stFlrSF', 'GrLivArea', 'GarageArea'])\n",
    "pd.DataFrame(train_poly,columns=['TotalBsmtSF', '1stFlrSF', 'GrLivArea', 'GarageArea','TotalBsmtSF^2', 'TotalBsmtSF 1stFlrSF', 'TotalBsmtSF GrLivArea',\n",
    "       'TotalBsmtSF GarageArea', '1stFlrSF^2', '1stFlrSF GrLivArea','1stFlrSF GarageArea', 'GrLivArea^2', 'GrLivArea GarageArea','GarageArea^2', \n",
    "       'TotalBsmtSF^3', 'TotalBsmtSF^2 1stFlrSF','TotalBsmtSF^2 GrLivArea', 'TotalBsmtSF^2 GarageArea','TotalBsmtSF 1stFlrSF^2', \n",
    "       'TotalBsmtSF 1stFlrSF GrLivArea','TotalBsmtSF 1stFlrSF GarageArea', 'TotalBsmtSF GrLivArea^2','TotalBsmtSF GrLivArea GarageArea', \n",
    "       'TotalBsmtSF GarageArea^2','1stFlrSF^3', '1stFlrSF^2 GrLivArea', '1stFlrSF^2 GarageArea','1stFlrSF GrLivArea^2', '1stFlrSF GrLivArea GarageArea',\n",
    "       '1stFlrSF GarageArea^2', 'GrLivArea^3', 'GrLivArea^2 GarageArea','GrLivArea GarageArea^2', 'GarageArea^3'])"
   ]
  },
  {
   "cell_type": "markdown",
   "metadata": {},
   "source": [
    "## The Cell below contains code to incorporate the newly made columns into the existing train dataset. It also begins by combining the features gotten from the preprocessing actvities before."
   ]
  },
  {
   "cell_type": "code",
   "execution_count": null,
   "metadata": {
    "scrolled": true,
    "tags": []
   },
   "outputs": [],
   "source": [
    "train_clean = train[pcarl + corrp]\n",
    "train_clean[[\"TotalBsmtSF\", \"1stFlrSF\", \"GrLivArea\", \"GarageArea\",\"TotalBsmtSF^2\", \"TotalBsmtSF 1stFlrSF\", \"TotalBsmtSF GrLivArea\",\n",
    "       \"TotalBsmtSF GarageArea\", \"1stFlrSF^2\", \"1stFlrSF GrLivArea\",\"1stFlrSF GarageArea\", \"GrLivArea^2\", \"GrLivArea GarageArea\",\"GarageArea^2\", \n",
    "       \"TotalBsmtSF^3\", \"TotalBsmtSF^2 1stFlrSF\",\"TotalBsmtSF^2 GrLivArea\", \"TotalBsmtSF^2 GarageArea\",\"TotalBsmtSF 1stFlrSF^2\", \n",
    "       \"TotalBsmtSF 1stFlrSF GrLivArea\",\"TotalBsmtSF 1stFlrSF GarageArea\", \"TotalBsmtSF GrLivArea^2\",\"TotalBsmtSF GrLivArea GarageArea\", \n",
    "       \"TotalBsmtSF GarageArea^2\",\"1stFlrSF^3\", \"1stFlrSF^2 GrLivArea\", \"1stFlrSF^2 GarageArea\",\"1stFlrSF GrLivArea^2\", \n",
    "       \"1stFlrSF GrLivArea GarageArea\",\"1stFlrSF GarageArea^2\", \"GrLivArea^3\", \"GrLivArea^2 GarageArea\",\"GrLivArea GarageArea^2\", \n",
    "       \"GarageArea^3\"]] = train_poly\n",
    "train_clean.columns.sort_values()"
   ]
  },
  {
   "cell_type": "markdown",
   "metadata": {},
   "source": [
    "## The Cell below contains code to check the data types. "
   ]
  },
  {
   "cell_type": "code",
   "execution_count": null,
   "metadata": {},
   "outputs": [],
   "source": [
    "train_clean.dtypes"
   ]
  },
  {
   "cell_type": "markdown",
   "metadata": {},
   "source": [
    "## The Cell below contains code to add polynomial features to match the test set with the training set."
   ]
  },
  {
   "cell_type": "code",
   "execution_count": null,
   "metadata": {},
   "outputs": [],
   "source": [
    "pr = pf(degree = 3, include_bias=False)\n",
    "test_poly = pr.fit_transform(test[['TotalBsmtSF', '1stFlrSF', 'GrLivArea', 'GarageArea']])\n",
    "pr.get_feature_names_out(['TotalBsmtSF', '1stFlrSF', 'GrLivArea', 'GarageArea'])\n",
    "pd.DataFrame(test_poly,columns=['TotalBsmtSF', '1stFlrSF', 'GrLivArea', 'GarageArea','TotalBsmtSF^2', 'TotalBsmtSF 1stFlrSF', 'TotalBsmtSF GrLivArea',\n",
    "       'TotalBsmtSF GarageArea', '1stFlrSF^2', '1stFlrSF GrLivArea','1stFlrSF GarageArea', 'GrLivArea^2', 'GrLivArea GarageArea','GarageArea^2', \n",
    "       'TotalBsmtSF^3', 'TotalBsmtSF^2 1stFlrSF','TotalBsmtSF^2 GrLivArea', 'TotalBsmtSF^2 GarageArea','TotalBsmtSF 1stFlrSF^2', \n",
    "       'TotalBsmtSF 1stFlrSF GrLivArea','TotalBsmtSF 1stFlrSF GarageArea', 'TotalBsmtSF GrLivArea^2','TotalBsmtSF GrLivArea GarageArea', \n",
    "       'TotalBsmtSF GarageArea^2','1stFlrSF^3', '1stFlrSF^2 GrLivArea', '1stFlrSF^2 GarageArea','1stFlrSF GrLivArea^2', '1stFlrSF GrLivArea GarageArea',\n",
    "       '1stFlrSF GarageArea^2', 'GrLivArea^3', 'GrLivArea^2 GarageArea','GrLivArea GarageArea^2', 'GarageArea^3'])"
   ]
  },
  {
   "cell_type": "markdown",
   "metadata": {},
   "source": [
    "## The Cell below contains code to incorporate the newly made columns into the existing test dataset. It also begins by combining the features gotten from the preprocessing actvities before to match with the train dataset."
   ]
  },
  {
   "cell_type": "code",
   "execution_count": null,
   "metadata": {},
   "outputs": [],
   "source": [
    "test_clean = test[pcarl + corrp]\n",
    "test_clean[[\"TotalBsmtSF\", \"1stFlrSF\", \"GrLivArea\", \"GarageArea\",\"TotalBsmtSF^2\", \"TotalBsmtSF 1stFlrSF\", \"TotalBsmtSF GrLivArea\",\n",
    "       \"TotalBsmtSF GarageArea\", \"1stFlrSF^2\", \"1stFlrSF GrLivArea\",\"1stFlrSF GarageArea\", \"GrLivArea^2\", \"GrLivArea GarageArea\",\"GarageArea^2\", \n",
    "       \"TotalBsmtSF^3\", \"TotalBsmtSF^2 1stFlrSF\",\"TotalBsmtSF^2 GrLivArea\", \"TotalBsmtSF^2 GarageArea\",\"TotalBsmtSF 1stFlrSF^2\", \n",
    "       \"TotalBsmtSF 1stFlrSF GrLivArea\",\"TotalBsmtSF 1stFlrSF GarageArea\", \"TotalBsmtSF GrLivArea^2\",\"TotalBsmtSF GrLivArea GarageArea\", \n",
    "       \"TotalBsmtSF GarageArea^2\",\"1stFlrSF^3\", \"1stFlrSF^2 GrLivArea\", \"1stFlrSF^2 GarageArea\",\"1stFlrSF GrLivArea^2\", \n",
    "       \"1stFlrSF GrLivArea GarageArea\",\"1stFlrSF GarageArea^2\", \"GrLivArea^3\", \"GrLivArea^2 GarageArea\",\"GrLivArea GarageArea^2\", \n",
    "       \"GarageArea^3\"]] = test_poly\n",
    "test_clean.columns.sort_values()"
   ]
  },
  {
   "cell_type": "markdown",
   "metadata": {},
   "source": [
    "## The Cell below contains code to Divide the train dataset into x and y. Y contains the expected output and x contains the features used to get it."
   ]
  },
  {
   "cell_type": "code",
   "execution_count": null,
   "metadata": {
    "tags": []
   },
   "outputs": [],
   "source": [
    "XX = train_clean\n",
    "YY = train.SalePrice"
   ]
  },
  {
   "cell_type": "markdown",
   "metadata": {},
   "source": [
    "## The Cell below contains code to fill all the missisng features in the column GarageYrBlt."
   ]
  },
  {
   "cell_type": "code",
   "execution_count": null,
   "metadata": {
    "scrolled": true,
    "tags": []
   },
   "outputs": [],
   "source": [
    "XX.fillna(1, inplace=True)\n",
    "XX[\"GarageYrBlt\"] = XX[\"GarageYrBlt\"].astype('int64')\n",
    "XX[\"GarageYrBlt\"]"
   ]
  },
  {
   "cell_type": "markdown",
   "metadata": {},
   "source": [
    "## The Cell below contains code to define the categorical features."
   ]
  },
  {
   "cell_type": "code",
   "execution_count": null,
   "metadata": {
    "tags": []
   },
   "outputs": [],
   "source": [
    "cat_features1 = pcarl"
   ]
  },
  {
   "cell_type": "markdown",
   "metadata": {},
   "source": [
    "## The Cell below contains code to split the data into train and test data, define the sample space for the Optuna algorithm to tune the hyperparameters and define the output to be used to tune the hyperparameters. I use MAPE of the test data and the variance between the training set and the test set."
   ]
  },
  {
   "cell_type": "code",
   "execution_count": null,
   "metadata": {
    "tags": []
   },
   "outputs": [],
   "source": [
    "params_list = []\n",
    "from sklearn.model_selection import train_test_split\n",
    "X_train,X_test,Y_train,Y_test=train_test_split(XX,YY,test_size=0.25,random_state=42)\n",
    "\n",
    "\n",
    "Train_set=Pool(X_train, Y_train,cat_features=cat_features1)\n",
    "\n",
    "Eval_set=Pool(X_test, Y_test,cat_features=cat_features1)\n",
    "def objective(trial):\n",
    "    global params_list\n",
    "    param = {\n",
    "        #'task_type':\"GPU\",\n",
    "        'iterations':5000,\n",
    "        'learning_rate' : trial.suggest_loguniform('learning_rate', 0.000001, 0.01),\n",
    "        'use_best_model':True,\n",
    "        #'od_type' : \"Iter\",\n",
    "        #'od_wait' : 500,\n",
    "        #'random_seed': 240,\n",
    "        #\"scale_pos_weight\":trial.suggest_int(\"scale_pos_weight\", 1, 10),\n",
    "        \"depth\": trial.suggest_int(\"max_depth\", 1, 10),\n",
    "        \"l2_leaf_reg\": trial.suggest_loguniform(\"lambda\",1,5),\n",
    "          'eval_metric':trial.suggest_categorical(\"loss_function\",['RMSE']),\n",
    "         'one_hot_max_size':256\n",
    "        }\n",
    "\n",
    "    # Add a callback for pruning.\n",
    "    model=CatBoostRegressor(**param)\n",
    "    print(param)\n",
    "    model.fit(Train_set,eval_set=Eval_set,plot=False,verbose=False)\n",
    "    pred1 = model.predict(Pool(X_train,cat_features= cat_features1))\n",
    "    pred2 = model.predict(Pool(X_test,cat_features= cat_features1))\n",
    "    mape1 = (metrics.mean_absolute_percentage_error(pred1,Y_train))*100 \n",
    "    mape2 = (metrics.mean_absolute_percentage_error(pred2,Y_test))*100\n",
    "    variance = mape2-mape1\n",
    "    print(\"The MAPE for train is\", mape1)\n",
    "    print(\"The MAPE for test is\", mape2)\n",
    "    print(\"The VARIANCE is \",variance)\n",
    "   \n",
    "    return mape2,variance"
   ]
  },
  {
   "cell_type": "markdown",
   "metadata": {},
   "source": [
    "## The Cell below contains code to activate the Optuna Hyperparameter tuning algorithm. It also sets the number of trials that Optuna will run on the provided hyperparameter sample space above. And it also has code for the best trials to be outputted below the trials code."
   ]
  },
  {
   "cell_type": "code",
   "execution_count": null,
   "metadata": {
    "scrolled": true,
    "tags": []
   },
   "outputs": [],
   "source": [
    "if __name__ == \"__main__\":\n",
    "    study = optuna.create_study(directions=[\"minimize\", \"minimize\"])\n",
    "    study.optimize(objective, n_trials=1000)\n",
    "    trial_with_lowest_error = max(study.best_trials, key=lambda t: t.values[1])\n",
    "    print(f\"Trial_with_Lowest_error: \")\n",
    "    print(f\"\\tnumber: {trial_with_lowest_error.number}\")\n",
    "    print(f\"\\tparams: {trial_with_lowest_error.params}\")\n",
    "    print(f\"\\tvalues: {trial_with_lowest_error.values}\")\n",
    "    trial_with_lowest_variance = max(study.best_trials, key=lambda t: t.values[0])\n",
    "    print(f\"Trial_with_Lowest_variance: \")\n",
    "    print(f\"\\tnumber: {trial_with_lowest_variance.number}\")\n",
    "    print(f\"\\tparams: {trial_with_lowest_variance.params}\")\n",
    "    print(f\"\\tvalues: {trial_with_lowest_variance.values}\")\n",
    "    "
   ]
  },
  {
   "cell_type": "markdown",
   "metadata": {},
   "source": [
    "## The Cell below contains code to plot a new experimental feature from Optuna that Plots the two objectives I am using to tune the hyperparameters to find the best hypereparameters together with the importance of the different hyperparameters in the next two code cells for MAPE of the test set and the variance between the MAPE of the training set and the MAPE of the test set respectively. "
   ]
  },
  {
   "cell_type": "code",
   "execution_count": null,
   "metadata": {},
   "outputs": [],
   "source": [
    "optuna.visualization.plot_pareto_front(study, target_names=[\"mape2\", \"variance\"])"
   ]
  },
  {
   "cell_type": "code",
   "execution_count": null,
   "metadata": {},
   "outputs": [],
   "source": [
    "optuna.visualization.plot_param_importances(study, target=lambda t: t.values[0], target_name=\"mape2\")"
   ]
  },
  {
   "cell_type": "code",
   "execution_count": null,
   "metadata": {},
   "outputs": [],
   "source": [
    "optuna.visualization.plot_param_importances(study, target=lambda t: t.values[0], target_name=\"variance\")"
   ]
  },
  {
   "cell_type": "markdown",
   "metadata": {},
   "source": [
    "## The Cell below contains code to execute the selected hyperparameters in CatBoostRegressor Algorithm. As before it produces both the training and the test set MAPE to measure the variance."
   ]
  },
  {
   "cell_type": "code",
   "execution_count": null,
   "metadata": {
    "_kg_hide-input": true,
    "tags": []
   },
   "outputs": [],
   "source": [
    "param={'one_hot_max_size':256,\n",
    "       'iterations': 10000,\n",
    "       'learning_rate': 0.0009402273445644647,\n",
    "       'use_best_model': True, \n",
    "       #'od_type': 'Iter'\n",
    "       #'od_wait': 10000, \n",
    "       'max_depth': 3,\n",
    "       'l2_leaf_reg': 1.196467054178472,\n",
    "       'loss_function':'RMSE'}\n",
    "model=CatBoostRegressor(**param)\n",
    "print(param)\n",
    "model.fit(Train_set,eval_set=Eval_set,plot=False,verbose=False)\n",
    "pred1 = model.predict(Pool(X_train,cat_features= cat_features1))\n",
    "pred2 = model.predict(Pool(X_test,cat_features= cat_features1))\n",
    "mape1 = (metrics.mean_absolute_percentage_error(pred1,Y_train))*100 \n",
    "mape2 = (metrics.mean_absolute_percentage_error(pred2,Y_test))*100\n",
    "print(\"The MAPE for train is\", mape1)\n",
    "print(\"The MAPE for test is\", mape2)\n"
   ]
  },
  {
   "cell_type": "markdown",
   "metadata": {},
   "source": [
    "# I will add the cell for outputting the submission file here after I am done with the trianing and I am sure that the model can properly generalize with the lowest error possible."
   ]
  },
  {
   "cell_type": "code",
   "execution_count": null,
   "metadata": {},
   "outputs": [],
   "source": []
  }
 ],
 "metadata": {
  "kernelspec": {
   "display_name": "Python (Local)",
   "language": "python",
   "name": "local-base"
  },
  "language_info": {
   "codemirror_mode": {
    "name": "ipython",
    "version": 3
   },
   "file_extension": ".py",
   "mimetype": "text/x-python",
   "name": "python",
   "nbconvert_exporter": "python",
   "pygments_lexer": "ipython3",
   "version": "3.7.12"
  }
 },
 "nbformat": 4,
 "nbformat_minor": 4
}
